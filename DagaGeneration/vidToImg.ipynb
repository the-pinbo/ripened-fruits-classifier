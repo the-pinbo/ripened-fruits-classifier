{
 "cells": [
  {
   "cell_type": "code",
   "execution_count": null,
   "id": "cb68f41b",
   "metadata": {},
   "outputs": [],
   "source": [
    "IMG_PATH_SRC = r\"C:\\Users\\inba2\\Documents\\Camera\"\n",
    "IMG_PATH_DST = r\"C:\\Users\\inba2\\Documents\\BananaDataSet\"\n",
    "FOLDERS = [\"Natural\",\"Carbide\",\"Etheral\"]"
   ]
  },
  {
   "cell_type": "code",
   "execution_count": null,
   "id": "36334f42",
   "metadata": {},
   "outputs": [],
   "source": [
    "import os\n",
    "import re\n",
    "import string\n",
    "import sys\n",
    "import traceback\n",
    "import collections\n",
    "import shutil\n",
    "import glob\n",
    "import cv2\n",
    "\n",
    "# IMG_PATH = r\"C:\\Users\\inba2\\Documents\\Camera\"\n",
    "# if __name__ == \"__main__\":\n",
    "#     video_path = glob(IMG_PATH)\n",
    "\n",
    "IMG_PATH_SRC = r\"C:\\Users\\inba2\\Documents\\Camera\"\n",
    "IMG_PATH_DST = r\"C:\\Users\\inba2\\Documents\\BananaDataSet\"\n",
    "FOLDERS = [\"Natural\", \"Carbide\", \"Etheral\"]\n",
    "\n",
    "for folder in FOLDERS:\n",
    "    dir_dst = os.path.join(IMG_PATH_DST, folder)\n",
    "    dir_src = os.path.join(IMG_PATH_SRC, folder)\n",
    "    if not os.path.isdir(dir_dst):\n",
    "        os.mkdir(dir_dst)\n",
    "    print(dir_src, dir_dst)\n",
    "    i = 1\n",
    "    for f in os.listdir(dir_src):\n",
    "        extension = \".jpg\"\n",
    "        if extension in f:\n",
    "            print(i, f)\n",
    "            name = folder + \"_\" + str(i) + extension\n",
    "            source = os.path.join(dir_src, f)\n",
    "            destination = os.path.join(dir_dst, name)\n",
    "            i += 1\n",
    "            print(source, destination)\n",
    "            try:\n",
    "                shutil.copy(source, destination)\n",
    "                print(\"File copied successfully.\")\n",
    "            # If source and destination are same\n",
    "            except shutil.SameFileError:\n",
    "                print(\"Source and destination represents the same file.\")\n",
    "            # If there is any permission issue\n",
    "            except PermissionError:\n",
    "                print(\"Permission denied.\")\n",
    "            # For other errors\n",
    "            except:\n",
    "                print(\"Error occurred while copying file.\")\n",
    "        extension = \".mp4\"\n",
    "        if extension in f:\n",
    "            source = os.path.join(dir_src, f)\n",
    "            vid = cv2.VideoCapture(source)\n",
    "            framesCount = 0\n",
    "            print(\"Frames \", framesCount)\n",
    "            print(source)\n",
    "            while vid.isOpened():\n",
    "                flag, frame = vid.read()\n",
    "                if flag == False:\n",
    "                    break\n",
    "                framesCount += 1\n",
    "                if framesCount % 10 == 0:\n",
    "                    f_name = folder + \"_\" + str(i) + \".jpg\"\n",
    "                    destination = os.path.join(dir_dst, f_name)\n",
    "                    cv2.imwrite(destination, frame)\n",
    "                    i += 1\n",
    "            vid.release()\n",
    "            cv2.destroyAllWindows()\n"
   ]
  }
 ],
 "metadata": {
  "kernelspec": {
   "display_name": "Python 3 (ipykernel)",
   "language": "python",
   "name": "python3"
  },
  "language_info": {
   "codemirror_mode": {
    "name": "ipython",
    "version": 3
   },
   "file_extension": ".py",
   "mimetype": "text/x-python",
   "name": "python",
   "nbconvert_exporter": "python",
   "pygments_lexer": "ipython3",
   "version": "3.9.7"
  },
  "latex_envs": {
   "LaTeX_envs_menu_present": true,
   "autoclose": false,
   "autocomplete": true,
   "bibliofile": "biblio.bib",
   "cite_by": "apalike",
   "current_citInitial": 1,
   "eqLabelWithNumbers": true,
   "eqNumInitial": 1,
   "hotkeys": {
    "equation": "Ctrl-E",
    "itemize": "Ctrl-I"
   },
   "labels_anchors": false,
   "latex_user_defs": false,
   "report_style_numbering": false,
   "user_envs_cfg": false
  },
  "varInspector": {
   "cols": {
    "lenName": 16,
    "lenType": 16,
    "lenVar": 40
   },
   "kernels_config": {
    "python": {
     "delete_cmd_postfix": "",
     "delete_cmd_prefix": "del ",
     "library": "var_list.py",
     "varRefreshCmd": "print(var_dic_list())"
    },
    "r": {
     "delete_cmd_postfix": ") ",
     "delete_cmd_prefix": "rm(",
     "library": "var_list.r",
     "varRefreshCmd": "cat(var_dic_list()) "
    }
   },
   "types_to_exclude": [
    "module",
    "function",
    "builtin_function_or_method",
    "instance",
    "_Feature"
   ],
   "window_display": false
  }
 },
 "nbformat": 4,
 "nbformat_minor": 5
}
